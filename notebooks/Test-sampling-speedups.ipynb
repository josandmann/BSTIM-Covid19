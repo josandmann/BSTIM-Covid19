{
 "cells": [
  {
   "cell_type": "code",
   "execution_count": 1,
   "metadata": {},
   "outputs": [],
   "source": [
    "import theano\n",
    "import theano.tensor as tt\n",
    "import numpy as np\n",
    "import pandas as pd\n",
    "import pickle as pkl\n",
    "import datetime\n",
    "from collections import OrderedDict\n",
    "import cProfile\n",
    "import pstats\n",
    "%run ../src/sampling_utils.py\n",
    "%run ../src/shared_utils.py"
   ]
  },
  {
   "cell_type": "code",
   "execution_count": 2,
   "metadata": {},
   "outputs": [],
   "source": [
    "with open('../data/counties/counties.pkl', \"rb\") as f:\n",
    "    counties = pkl.load(f)\n",
    "    \n",
    "disease = \"covid19\"\n",
    "prediction_region = \"germany\"\n",
    "\n",
    "indata = load_daily_data(disease, prediction_region, counties)\n",
    "data = indata.iloc[:,0:31]\n",
    "#data = indata.iloc[:,0:31]\n",
    "\n",
    "rnd_tsel = np.random.Generator(np.random.PCG64(12345))\n",
    "times_by_day = uniform_times_by_day(data.index, rnd_tsel)\n",
    "\n",
    "rnd_csel = np.random.Generator(np.random.PCG64(12345))\n",
    "locations_by_county=uniform_locations_by_county(counties, rnd_csel)\n",
    "\n",
    "#ia_bfs = build_ia_bfs(temporal_bfs, spatial_bfs, profile=False)"
   ]
  },
  {
   "cell_type": "code",
   "execution_count": 3,
   "metadata": {
    "scrolled": true
   },
   "outputs": [
    {
     "name": "stderr",
     "output_type": "stream",
     "text": [
      "C:\\Users\\Jomann\\anaconda3\\lib\\site-packages\\theano\\tensor\\subtensor.py:2197: FutureWarning: Using a non-tuple sequence for multidimensional indexing is deprecated; use `arr[tuple(seq)]` instead of `arr[seq]`. In the future this will be interpreted as an array index, `arr[np.array(seq)]`, which will result either in an error or a different result.\n",
      "  rval = inputs[0].__getitem__(inputs[1:])\n",
      "C:\\Users\\Jomann\\anaconda3\\lib\\site-packages\\theano\\tensor\\subtensor.py:2339: FutureWarning: Using a non-tuple sequence for multidimensional indexing is deprecated; use `arr[tuple(seq)]` instead of `arr[seq]`. In the future this will be interpreted as an array index, `arr[np.array(seq)]`, which will result either in an error or a different result.\n",
      "  out[0][inputs[2:]] = inputs[1]\n",
      "C:\\Users\\Jomann\\anaconda3\\lib\\site-packages\\theano\\tensor\\subtensor.py:2197: FutureWarning: Using a non-tuple sequence for multidimensional indexing is deprecated; use `arr[tuple(seq)]` instead of `arr[seq]`. In the future this will be interpreted as an array index, `arr[np.array(seq)]`, which will result either in an error or a different result.\n",
      "  rval = inputs[0].__getitem__(inputs[1:])\n",
      "C:\\Users\\Jomann\\anaconda3\\lib\\site-packages\\theano\\tensor\\subtensor.py:2339: FutureWarning: Using a non-tuple sequence for multidimensional indexing is deprecated; use `arr[tuple(seq)]` instead of `arr[seq]`. In the future this will be interpreted as an array index, `arr[np.array(seq)]`, which will result either in an error or a different result.\n",
      "  out[0][inputs[2:]] = inputs[1]\n"
     ]
    },
    {
     "name": "stdout",
     "output_type": "stream",
     "text": [
      "4.96 s ± 42.3 ms per loop (mean ± std. dev. of 7 runs, 1 loop each)\n"
     ]
    }
   ],
   "source": [
    "%%timeit\n",
    "#cp = cProfile.Profile()\n",
    "#cp.enable()\n",
    "samp = iaeffect_sampler(data, times_by_day, locations_by_county, temporal_bfs, spatial_bfs)\n",
    "#cp.disable()\n",
    "#cp.create_stats()\n",
    "#p = pstats.Stats()\n",
    "#p.strip_dirs()\n",
    "#cp.dump_stats('profilenumbasingle.dmp')"
   ]
  },
  {
   "cell_type": "code",
   "execution_count": null,
   "metadata": {},
   "outputs": [],
   "source": [
    "#a = np.tile([], 31)\n",
    "#print(type(a))\n",
    "#print(np.shape(data))\n",
    "#print(np.shape(data.index))\n",
    "#print(np.shape(data.columns))\n",
    "#print(type(samp), type(samp[0]), type(samp[0][0]), type(samp[0][0][0]))\n",
    "#print(not 5)"
   ]
  }
 ],
 "metadata": {
  "kernelspec": {
   "display_name": "Python 3",
   "language": "python",
   "name": "python3"
  },
  "language_info": {
   "codemirror_mode": {
    "name": "ipython",
    "version": 3
   },
   "file_extension": ".py",
   "mimetype": "text/x-python",
   "name": "python",
   "nbconvert_exporter": "python",
   "pygments_lexer": "ipython3",
   "version": "3.7.7"
  }
 },
 "nbformat": 4,
 "nbformat_minor": 4
}
