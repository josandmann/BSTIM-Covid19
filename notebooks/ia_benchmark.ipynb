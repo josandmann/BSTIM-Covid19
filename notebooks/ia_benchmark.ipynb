{
 "cells": [
  {
   "cell_type": "code",
   "execution_count": 1,
   "metadata": {},
   "outputs": [],
   "source": [
    "import itertools as it\n",
    "import pickle as pkl\n",
    "import os\n",
    "from collections import OrderedDict\n",
    "%run ../src/sampling_utils.py\n",
    "%run ../src/shared_utils.py"
   ]
  },
  {
   "cell_type": "code",
   "execution_count": 2,
   "metadata": {},
   "outputs": [],
   "source": [
    "disease = \"covid19\"\n",
    "prediction_region = \"germany\"\n",
    "\n",
    "with open('../data/counties/counties.pkl', \"rb\") as f:\n",
    "    counties = pkl.load(f)\n",
    "\n",
    "data = load_daily_data(disease, prediction_region, counties)\n",
    "data = data.iloc[:, 0:31]\n",
    "times = uniform_times_by_day(data.index)\n",
    "locs = uniform_locations_by_county(counties)\n",
    "\n",
    "def temporal_bfs(x): return bspline_bfs(x, np.array(\n",
    "    [0, 0, 1, 2, 3, 4, 5]) * 24 * 3600.0, 2)\n",
    "\n",
    "def spatial_bfs(x): return [gaussian_bf(x, σ)\n",
    "                            for σ in [6.25, 12.5, 25.0, 50.0]]\n",
    "\n",
    "num_features = len(temporal_bfs(tt.fmatrix(\"tmp\"))) * len(spatial_bfs(tt.fmatrix(\"tmp\")))\n",
    "\n",
    "ia_bfs = build_ia_bfs(temporal_bfs, spatial_bfs)"
   ]
  },
  {
   "cell_type": "code",
   "execution_count": 3,
   "metadata": {},
   "outputs": [
    {
     "name": "stderr",
     "output_type": "stream",
     "text": [
      "/usr/local/software/jureca/Stages/Devel-2019a/software/Python/3.6.8-GCCcore-8.3.0/lib/python3.6/site-packages/theano/tensor/subtensor.py:2197: FutureWarning: Using a non-tuple sequence for multidimensional indexing is deprecated; use `arr[tuple(seq)]` instead of `arr[seq]`. In the future this will be interpreted as an array index, `arr[np.array(seq)]`, which will result either in an error or a different result.\n",
      "  rval = inputs[0].__getitem__(inputs[1:])\n",
      "/usr/local/software/jureca/Stages/Devel-2019a/software/Python/3.6.8-GCCcore-8.3.0/lib/python3.6/site-packages/theano/tensor/subtensor.py:2339: FutureWarning: Using a non-tuple sequence for multidimensional indexing is deprecated; use `arr[tuple(seq)]` instead of `arr[seq]`. In the future this will be interpreted as an array index, `arr[np.array(seq)]`, which will result either in an error or a different result.\n",
      "  out[0][inputs[2:]] = inputs[1]\n"
     ]
    },
    {
     "name": "stdout",
     "output_type": "stream",
     "text": [
      "3.19 s ± 56.6 ms per loop (mean ± std. dev. of 7 runs, 1 loop each)\n"
     ]
    }
   ],
   "source": [
    "%%timeit\n",
    "res_new = sample_ia_effects(data, times, locs, ia_bfs, num_features)"
   ]
  },
  {
   "cell_type": "code",
   "execution_count": 4,
   "metadata": {},
   "outputs": [
    {
     "name": "stdout",
     "output_type": "stream",
     "text": [
      "34.2 s ± 501 ms per loop (mean ± std. dev. of 7 runs, 1 loop each)\n"
     ]
    }
   ],
   "source": [
    "%%timeit\n",
    "samp = IAEffectSampler(data, times, locs, temporal_bfs, spatial_bfs, verbose=False)\n",
    "res_old = samp(data.index, data.columns)"
   ]
  },
  {
   "cell_type": "code",
   "execution_count": 8,
   "metadata": {},
   "outputs": [
    {
     "name": "stderr",
     "output_type": "stream",
     "text": [
      "/usr/local/software/jureca/Stages/Devel-2019a/software/Python/3.6.8-GCCcore-8.3.0/lib/python3.6/site-packages/theano/tensor/subtensor.py:2197: FutureWarning: Using a non-tuple sequence for multidimensional indexing is deprecated; use `arr[tuple(seq)]` instead of `arr[seq]`. In the future this will be interpreted as an array index, `arr[np.array(seq)]`, which will result either in an error or a different result.\n",
      "  rval = inputs[0].__getitem__(inputs[1:])\n",
      "/usr/local/software/jureca/Stages/Devel-2019a/software/Python/3.6.8-GCCcore-8.3.0/lib/python3.6/site-packages/theano/tensor/subtensor.py:2339: FutureWarning: Using a non-tuple sequence for multidimensional indexing is deprecated; use `arr[tuple(seq)]` instead of `arr[seq]`. In the future this will be interpreted as an array index, `arr[np.array(seq)]`, which will result either in an error or a different result.\n",
      "  out[0][inputs[2:]] = inputs[1]\n"
     ]
    },
    {
     "data": {
      "text/plain": [
       "False"
      ]
     },
     "execution_count": 8,
     "metadata": {},
     "output_type": "execute_result"
    }
   ],
   "source": [
    "res_new = sample_ia_effects(data, times, locs, ia_bfs, num_features)\n",
    "samp = IAEffectSampler(data, times, locs, temporal_bfs, spatial_bfs, verbose=False)\n",
    "res_old = samp(data.index, data.columns)\n",
    "\n",
    "np.array_equal(res_old, res_new)"
   ]
  },
  {
   "cell_type": "code",
   "execution_count": 15,
   "metadata": {},
   "outputs": [
    {
     "data": {
      "text/plain": [
       "array([0.03122144, 0.01563206, 0.01055665, 0.01991831, 0.17515898,\n",
       "       0.08762576, 0.04986301, 0.06200151, 0.42624635, 0.21315777,\n",
       "       0.11141692, 0.09576207, 0.5035817 , 0.25180554, 0.12857512,\n",
       "       0.1088883 ], dtype=float32)"
      ]
     },
     "execution_count": 15,
     "metadata": {},
     "output_type": "execute_result"
    }
   ],
   "source": [
    "res_new[-1,1,:]"
   ]
  },
  {
   "cell_type": "code",
   "execution_count": 16,
   "metadata": {},
   "outputs": [
    {
     "data": {
      "text/plain": [
       "array([0.0100014 , 0.01024917, 0.00885839, 0.0168313 , 0.0373856 ,\n",
       "       0.04373937, 0.0383384 , 0.05307557, 0.06239312, 0.09210943,\n",
       "       0.08441518, 0.08601639, 0.08390123, 0.11935139, 0.10128495,\n",
       "       0.10140499], dtype=float32)"
      ]
     },
     "execution_count": 16,
     "metadata": {},
     "output_type": "execute_result"
    }
   ],
   "source": [
    "res_old[-1,1,:]"
   ]
  },
  {
   "cell_type": "code",
   "execution_count": null,
   "metadata": {},
   "outputs": [],
   "source": []
  }
 ],
 "metadata": {
  "@webio": {
   "lastCommId": null,
   "lastKernelId": null
  },
  "file_extension": ".py",
  "kernelspec": {
   "display_name": "covid19dynstat_v01",
   "language": "python",
   "name": "covid19dynstat_v01"
  },
  "language_info": {
   "codemirror_mode": {
    "name": "ipython",
    "version": 3
   },
   "file_extension": ".py",
   "mimetype": "text/x-python",
   "name": "python",
   "nbconvert_exporter": "python",
   "pygments_lexer": "ipython3",
   "version": "3.6.8"
  },
  "mimetype": "text/x-python",
  "name": "python",
  "npconvert_exporter": "python",
  "pygments_lexer": "ipython3",
  "version": 3
 },
 "nbformat": 4,
 "nbformat_minor": 4
}
