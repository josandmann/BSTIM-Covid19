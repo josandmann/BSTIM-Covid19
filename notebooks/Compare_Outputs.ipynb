{
 "cells": [
  {
   "cell_type": "code",
   "execution_count": 1,
   "metadata": {},
   "outputs": [],
   "source": [
    "import theano\n",
    "import theano.tensor as tt\n",
    "import numpy as np\n",
    "import pandas as pd\n",
    "import pickle as pkl\n",
    "import datetime\n",
    "from collections import OrderedDict\n",
    "import cProfile\n",
    "import pstats\n",
    "%run ../src/sampling_utils.py\n",
    "%run ../src/shared_utils.py"
   ]
  },
  {
   "cell_type": "markdown",
   "metadata": {},
   "source": [
    "The always stuff"
   ]
  },
  {
   "cell_type": "code",
   "execution_count": 2,
   "metadata": {},
   "outputs": [],
   "source": [
    "with open('../data/counties/counties.pkl', \"rb\") as f:\n",
    "    counties = pkl.load(f)\n",
    "    \n",
    "disease = \"covid19\"\n",
    "prediction_region = \"germany\"\n",
    "\n",
    "indata = load_daily_data(disease, prediction_region, counties)\n",
    "data = indata.iloc[:,0:31]\n",
    "#data = indata.iloc[:,0:31]\n",
    "rnd_tsel = np.random.Generator(np.random.PCG64(12345))\n",
    "times_by_day = uniform_times_by_day(data.index, rnd_tsel)\n",
    "\n",
    "rnd_csel = np.random.Generator(np.random.PCG64(12345))\n",
    "locations_by_county=uniform_locations_by_county(counties, rnd_csel)"
   ]
  },
  {
   "cell_type": "markdown",
   "metadata": {},
   "source": [
    "The old stuff"
   ]
  },
  {
   "cell_type": "code",
   "execution_count": 3,
   "metadata": {},
   "outputs": [
    {
     "name": "stderr",
     "output_type": "stream",
     "text": [
      "C:\\Users\\Jomann\\anaconda3\\lib\\site-packages\\theano\\tensor\\subtensor.py:2197: FutureWarning: Using a non-tuple sequence for multidimensional indexing is deprecated; use `arr[tuple(seq)]` instead of `arr[seq]`. In the future this will be interpreted as an array index, `arr[np.array(seq)]`, which will result either in an error or a different result.\n",
      "  rval = inputs[0].__getitem__(inputs[1:])\n",
      "C:\\Users\\Jomann\\anaconda3\\lib\\site-packages\\theano\\tensor\\subtensor.py:2339: FutureWarning: Using a non-tuple sequence for multidimensional indexing is deprecated; use `arr[tuple(seq)]` instead of `arr[seq]`. In the future this will be interpreted as an array index, `arr[np.array(seq)]`, which will result either in an error or a different result.\n",
      "  out[0][inputs[2:]] = inputs[1]\n"
     ]
    }
   ],
   "source": [
    "def old_sample_time_and_space(data, times_by_day, locations_by_county, rnd_t, rnd_l):\n",
    "    n_total = data.sum().sum()\n",
    "    t_all = np.empty((n_total,), dtype=object)\n",
    "    x_all = np.empty((n_total, 2))\n",
    "    \n",
    "    i=0\n",
    "    for (county_id, series) in data.iteritems():\n",
    "        for (day, n) in series.iteritems():\n",
    "            #if n==0: continue\n",
    "            #print(i,\"\\n   day =\",day,\"\\n   no. samples to draw = \",n)\n",
    "        \n",
    "            # draw n random times\n",
    "            times = times_by_day[day]\n",
    "            #idx = rnd_time.choice(len(times), n)\n",
    "            idx = np.floor( (n*[len(times)]) * rnd_t.random((n,)) ).astype(\"int32\") # replace 'rnd_time.choice' to enable compare with new optimized solution\n",
    "            #print(\"   random sample ids   = \",idx)\n",
    "            t_all[i:i + n] = times[idx]\n",
    "\n",
    "            # draw n random locations\n",
    "            locs = locations_by_county[county_id]\n",
    "            #idx = rnd_loc.choice(locs.shape[0], n)\n",
    "            idx = np.floor( (n*[locs.shape[0]]) * rnd_l.random((n,)) ).astype(\"int32\") # replace 'rnd_time.choice' to enable compare with new optimized solution\n",
    "            x_all[i:i + n, :] = locs[idx, :]\n",
    "        \n",
    "            i += n          \n",
    "\n",
    "    return t_all, x_all\n",
    "\n",
    "\n",
    "ia_bfs = build_ia_bfs(temporal_bfs, spatial_bfs, profile=False)\n",
    "\n",
    "def sample_ia_effects_old():\n",
    "    rnd_time = np.random.Generator(np.random.PCG64(12345))\n",
    "    rnd_loc  = np.random.Generator(np.random.PCG64(12345))\n",
    "    rnd_time_pred = np.random.Generator(np.random.PCG64(12345))\n",
    "    rnd_loc_pred  = np.random.Generator(np.random.PCG64(12345))\n",
    "\n",
    "    t_data_0 = []\n",
    "    x_data_0 = []\n",
    "    t_pred_0 = []\n",
    "    x_pred_0 = []\n",
    "\n",
    "    num_tps=5\n",
    "    d_offs=0 # just to limit the time of test\n",
    "    c_offs=0 # just to limit the time of test\n",
    "    days = data.index[d_offs:d_offs+50]\n",
    "    counties = data.columns[c_offs:c_offs+50]\n",
    "\n",
    "    _to_timestamp = np.frompyfunc(datetime.datetime.timestamp, 1, 1)\n",
    "    num_features = len(temporal_bfs(tt.fmatrix(\"tmp\"))) * len(spatial_bfs(tt.fmatrix(\"tmp\")))\n",
    "    res_0 = np.zeros((len(days), len(counties), num_features), dtype=np.float32)\n",
    "\n",
    "    for i, day in enumerate(days):\n",
    "        for j, county in enumerate(counties):\n",
    "            idx = ((day - pd.Timedelta(days=5)) <= data.index) * (data.index < day)\n",
    "\n",
    "            t_data, x_data = old_sample_time_and_space(data.iloc[idx], times_by_day, locations_by_county, rnd_time, rnd_loc)\n",
    "            t_pred, x_pred = old_sample_time_and_space(pd.DataFrame(num_tps, index=[day], columns=[county]), times_by_day, locations_by_county, rnd_time_pred, rnd_loc_pred)\n",
    "\n",
    "            #print(\"_to_timestamp(t_pred) (types, type1, size, value): \", type(_to_timestamp(t_pred)), type(_to_timestamp(t_pred)[0]), np.shape(_to_timestamp(t_pred)), _to_timestamp(t_pred)[0])\n",
    "            # => _to_timestamp(t_pred) (types, type1, size, value):  <class 'numpy.ndarray'> <class 'float'> (5,) 1580217693.876309\n",
    "            #print(\"x_pred (types, size, value)       : \", type(x_pred), type(x_pred[0]), type(x_pred[0][0]), np.shape(x_pred), x_pred[0][0])        \n",
    "            # => x_pred (types, size, value)       :  <class 'numpy.ndarray'> <class 'numpy.ndarray'> <class 'numpy.float64'> (5, 2) 10.134378974970323\n",
    "\n",
    "            res_0[i, j, :] = ia_bfs(_to_timestamp(t_pred), x_pred, _to_timestamp(t_data), x_data)        \n",
    "\n",
    "            # store all to compare with old algo\n",
    "            t_data_0 = t_data_0 + t_data.tolist()\n",
    "            x_data_0 = x_data_0 + x_data.tolist()\n",
    "            t_pred_0 = t_pred_0 + t_pred.tolist()\n",
    "            x_pred_0 = x_pred_0 + x_pred.tolist()\n",
    "            \n",
    "    return t_data_0, x_data_0, t_pred_0, x_pred_0"
   ]
  },
  {
   "cell_type": "code",
   "execution_count": 4,
   "metadata": {},
   "outputs": [
    {
     "name": "stdout",
     "output_type": "stream",
     "text": [
      "15 s ± 153 ms per loop (mean ± std. dev. of 7 runs, 1 loop each)\n"
     ]
    }
   ],
   "source": [
    "%%timeit\n",
    "t_data_0, x_data_0, t_pred_0, x_pred_0 = sample_ia_effects_old()\n"
   ]
  },
  {
   "cell_type": "markdown",
   "metadata": {},
   "source": [
    "The new stuff"
   ]
  },
  {
   "cell_type": "code",
   "execution_count": null,
   "metadata": {
    "scrolled": true
   },
   "outputs": [],
   "source": [
    "\n",
    "#ia_bfs = build_ia_bfs(temporal_bfs, spatial_bfs, profile=False)\n",
    "#%%timeit\n",
    "#cp = cProfile.Profile()\n",
    "#cp.enable()\n",
    "samp = iaeffect_sampler(data, times_by_day, locations_by_county, temporal_bfs, spatial_bfs)\n",
    "#cp.disable()\n",
    "#cp.create_stats()\n",
    "#p = pstats.Stats()\n",
    "#p.strip_dirs()\n",
    "#cp.dump_stats('profilenumbasingle.dmp')"
   ]
  },
  {
   "cell_type": "code",
   "execution_count": null,
   "metadata": {},
   "outputs": [],
   "source": [
    "#print(np.shape(data))\n",
    "#print(np.shape(data.index))\n",
    "#print(np.shape(data.columns))\n",
    "#print(type(samp), type(samp[0]), type(samp[0][0]), type(samp[0][0][0]))\n",
    "#print(not 5)"
   ]
  }
 ],
 "metadata": {
  "kernelspec": {
   "display_name": "Python 3",
   "language": "python",
   "name": "python3"
  },
  "language_info": {
   "codemirror_mode": {
    "name": "ipython",
    "version": 3
   },
   "file_extension": ".py",
   "mimetype": "text/x-python",
   "name": "python",
   "nbconvert_exporter": "python",
   "pygments_lexer": "ipython3",
   "version": "3.7.7"
  }
 },
 "nbformat": 4,
 "nbformat_minor": 4
}
